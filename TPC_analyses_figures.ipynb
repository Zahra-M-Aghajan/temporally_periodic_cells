{
  "nbformat": 4,
  "nbformat_minor": 0,
  "metadata": {
    "colab": {
      "provenance": []
    },
    "kernelspec": {
      "name": "python3",
      "display_name": "Python 3"
    },
    "language_info": {
      "name": "python"
    }
  },
  "cells": [
    {
      "cell_type": "code",
      "source": [
        "np.random.seed(5)\n",
        "\n",
        "from typing import Optional\n",
        "\n",
        "import matplotlib.pyplot as plt\n",
        "import numpy as np\n",
        "from scipy import fftpack, interpolate, signal, stats\n",
        "from sklearn import preprocessing\n",
        "\n",
        "MOVIE_DURATION = 42 * 60  # 42 minutes\n",
        "SAMPLING_FREQ = 100  # Hz\n",
        "\n",
        "get_sampling_freq = lambda time: int(np.nanmean(1 / np.diff(time)))\n",
        "\n",
        "\n",
        "def generate_firing_rate(\n",
        "    is_tpc: bool = True,\n",
        "    periodicity: Optional[np.ndarray] = np.array([200]),\n",
        "    amplitude: np.ndarray = np.array([5]),\n",
        "    sampling_freq: int = SAMPLING_FREQ,\n",
        "    movie_duration: float = MOVIE_DURATION,\n",
        "):\n",
        "    \"\"\"Function that generates synthetic firing rate of a given neuron, with or without periodicity (using either a sine function + jitter or a constant + jitter).\n",
        "\n",
        "    Parameters\n",
        "    ----------\n",
        "    is_tpc : bool\n",
        "        Whether the firing will have periodicity or not, by default True.\n",
        "\n",
        "    periodicity : Optional[np.ndarray]\n",
        "        Periodicity in firing in seconds, by default 200. For non-periodic units this can be left as `None`.\n",
        "\n",
        "    amplitude : np.ndarray\n",
        "        Amplitude associated with each periodicity.\n",
        "\n",
        "    sampling_freq : int\n",
        "        Sampling frequency in Hz.\n",
        "\n",
        "     movie_duration: float\n",
        "        The duration of the signal, here the duration of the episode in seconds.\n",
        "\n",
        "    Returns\n",
        "    -------\n",
        "    fr : np.ndarray\n",
        "        Firing rate of the neuron.\n",
        "\n",
        "    time : np.ndarray\n",
        "        The time vector associated with the firing rate.\n",
        "    \"\"\"\n",
        "    time = np.arange(movie_duration, step=1 / sampling_freq)\n",
        "    if is_tpc == True:\n",
        "        fr = np.dot(\n",
        "            amplitude[np.newaxis, :],\n",
        "            np.cos(np.pi + 2 * np.pi * (1 / periodicity[:, np.newaxis]) * time),\n",
        "        ).squeeze()\n",
        "        fr -= np.min(fr)\n",
        "    else:\n",
        "        fr = np.sum(amplitude) * np.ones_like(time)\n",
        "\n",
        "    # add jitter\n",
        "    fr += np.random.rand(*fr.shape)\n",
        "\n",
        "    return fr, time\n",
        "\n",
        "\n",
        "def compute_autocorrelation(time: np.ndarray, x: np.ndarray):\n",
        "    \"\"\"This function calculates the autocorrelation of a time series\n",
        "\n",
        "    Parameters\n",
        "    ----------\n",
        "    time : np.ndarray\n",
        "        Time vector.\n",
        "\n",
        "    x : np.ndarray\n",
        "        Signal time series data\n",
        "\n",
        "    Returns\n",
        "    -------\n",
        "    lags: np.array\n",
        "        Autocorrelation lags (in seconds).\n",
        "\n",
        "    autocorrelation: np.ndarray\n",
        "        Array of autocorrelation values at each lag.\n",
        "    \"\"\"\n",
        "    sampling_freq = get_sampling_freq(time)\n",
        "\n",
        "    autocorrelation = signal.correlate(x, x, mode=\"full\")\n",
        "    lags = signal.correlation_lags(x.size, x.size, mode=\"full\") / sampling_freq\n",
        "\n",
        "    return lags, autocorrelation\n",
        "\n",
        "\n",
        "def compute_fft(\n",
        "    data: np.ndarray,\n",
        "    sampling_freq: float,\n",
        "):\n",
        "    \"\"\"This function calculates fft from a time series.\n",
        "\n",
        "    Parameters\n",
        "    ----------\n",
        "    data : np.ndarray\n",
        "        Time series of the signals for which FFT will be computed.\n",
        "\n",
        "    sampling_freq : float\n",
        "        Sampling frequency (Hz).\n",
        "\n",
        "    Returns\n",
        "    -------\n",
        "    periods: np.array\n",
        "        Array of periods\n",
        "\n",
        "    amplitude: np.ndarray\n",
        "        Amplitude of the signal at each period.\n",
        "\n",
        "    \"\"\"\n",
        "    if data.ndim < 2:\n",
        "        data = data[:, np.newaxis]\n",
        "    num_samples = data.shape[0]\n",
        "    fft = fftpack.fft(data, axis=0)\n",
        "    freq = np.fft.fftfreq(num_samples, 1 / sampling_freq)\n",
        "    amplitude = np.abs(fft)\n",
        "    valid = (freq > 1e-3) & (freq < 1000)\n",
        "\n",
        "    return 1 / freq[valid], amplitude[valid].squeeze()\n",
        "\n",
        "\n",
        "def compute_dominant_periodicity(periods: np.ndarray, amplitude: np.ndarray):\n",
        "    \"\"\"This function gets the output of fft and computes the present periodicities in the firing.\n",
        "\n",
        "    Parameters\n",
        "    ----------\n",
        "    periods : np.ndarray\n",
        "        The period vector output by the fft function.\n",
        "\n",
        "    amplitude : np.ndarray\n",
        "        The amplitude vector.\n",
        "\n",
        "    Returns\n",
        "    -------\n",
        "    periodicity: np.array\n",
        "        Array of periodicities present in the signal.\n",
        "    \"\"\"\n",
        "    x = periods\n",
        "    y = amplitude\n",
        "    # interpolate to make the periods uniform\n",
        "    x_new = np.arange(periods.min(), periods.max(), step=1)\n",
        "    f = interpolate.interp1d(x, y)\n",
        "    y_new = f(x_new)\n",
        "\n",
        "    y_new = signal.savgol_filter(y_new, 5,3)\n",
        "    ind, _ = signal.find_peaks(y_new / y_new.max(), distance=10, height=.1)\n",
        "    periodicity, peak_val = x_new[ind], y_new[ind]\n",
        "    idx_sorted_peak = np.argsort(peak_val)[::-1]\n",
        "    \n",
        "    return periodicity[idx_sorted_peak]\n",
        "\n",
        "\n",
        "def generate_shuffled_autocorr(\n",
        "    time: np.ndarray, fr: np.ndarray, autocorr: np.ndarray, num_shuffles: int\n",
        "):\n",
        "    \"\"\"This function shuffles the original firing rate and computes the autocorrelation of shuffled FRs.\n",
        "\n",
        "     For the first half of the shuffles, data will be chunked into 1s-long epochs and for the second half 2-s long epochs.\n",
        "\n",
        "    Parameters\n",
        "    ----------\n",
        "    time : np.ndarray\n",
        "        Time vector associated with the firing rate.\n",
        "\n",
        "    fr : np.ndarray\n",
        "        The array of neuron's firing rate.\n",
        "\n",
        "    autocorr : np.ndarray\n",
        "        The array of autocorrelation of the original firing rate\n",
        "\n",
        "    num_shuffles : int\n",
        "        Number of shuffles to be performed.\n",
        "\n",
        "    Returns\n",
        "    -------\n",
        "    shuffled_autocorr: np.ndarray\n",
        "        The matrix of autocorrelations obtained from shuffled firing rates. Must be of the shape num_shuffles x num_lags\n",
        "    \"\"\"\n",
        "    sampling_freq = get_sampling_freq(time)\n",
        "    shuffled_autocorr = np.full((num_shuffles, len(autocorr)), np.nan)\n",
        "    for idx_shuffle in range(num_shuffles):\n",
        "        shuffled_fr = fr.copy()\n",
        "        if idx_shuffle < num_shuffles / 2:\n",
        "            shuffled_fr = np.reshape(shuffled_fr, (sampling_freq, -1))\n",
        "        else:\n",
        "            shuffled_fr = np.reshape(shuffled_fr, (2 * sampling_freq, -1))\n",
        "        shuffled_fr = np.random.permutation(shuffled_fr).ravel()\n",
        "\n",
        "        _, temp_autocorrelation = compute_autocorrelation(time, shuffled_fr)\n",
        "        shuffled_autocorr[idx_shuffle, :] = temp_autocorrelation\n",
        "\n",
        "    return shuffled_autocorr\n",
        "\n",
        "\n",
        "def detect_tpc(\n",
        "    lags: np.ndarray,\n",
        "    autocorr: np.ndarray,\n",
        "    shuffled_autocorr: np.ndarray,\n",
        "    ci: list = [2.5, 97.5],\n",
        "):\n",
        "    \"\"\"This function detects whether a cell is a TPC given its firing rate autocorrelation and shuffles.\n",
        "\n",
        "    Parameters\n",
        "    ----------\n",
        "    lags : np.ndarray\n",
        "        The array of autocorrelation lags\n",
        "\n",
        "    autocorr : np.ndarray\n",
        "        The array of true FR autocorrelations\n",
        "\n",
        "    shuffled_autocorr : np.ndarray\n",
        "        The matrix of autocorrelations obtained from shuffled firing rates. Must be of the shape num_shuffles x num_lags\n",
        "\n",
        "    ci : list\n",
        "        Confidence intervals to be used for the shuffled data. By default [2.5, 97.5]%.\n",
        "\n",
        "    Returns\n",
        "    -------\n",
        "    fraction_outside_ci: float\n",
        "        Fraction of lags that the true autocorrelation is outside the shuffled CIs.\n",
        "    \"\"\"\n",
        "    above_upper = autocorr > np.percentile(shuffled_autocorr, ci[1], axis=0)\n",
        "    below_lower = autocorr < np.percentile(shuffled_autocorr, ci[0], axis=0)\n",
        "    valid_lags = (lags > 10) & (\n",
        "        lags < lags.max() / 4\n",
        "    )  # too large of a periodicity for the duration of the movie\n",
        "    fraction_outside_ci = np.sum((above_upper | below_lower) & valid_lags) / np.sum(\n",
        "        valid_lags\n",
        "    )\n",
        "\n",
        "    return fraction_outside_ci\n",
        "\n",
        "\n",
        "def quantify_tpcs(\n",
        "    time: np.ndarray,\n",
        "    fr: np.ndarray,\n",
        "    num_shuffles: int = 200,\n",
        "    return_shuffles: bool = False,\n",
        "):\n",
        "    \"\"\"This function detects whether a cell is a TPC given its firing rate autocorrelation and shuffles.\n",
        "\n",
        "    Parameters\n",
        "    ----------\n",
        "    time : np.ndarray\n",
        "        The time vector corresponding to the neuron's firing rate.\n",
        "\n",
        "    fr : np.ndarray\n",
        "        The array of firing rate.\n",
        "\n",
        "    num_shuffles : int\n",
        "        The matrix of autocorrelations obtained from shuffled firing rates. Must be of the shape num_shuffles x num_lags\n",
        "\n",
        "    ci : list\n",
        "        Confidence intervals to be used for the shuffled data. By default [2.5, 97.5]%.\n",
        "\n",
        "    return_shuffles: bool\n",
        "        If True, the shuffled autocorrelations will be returned. By default, False.\n",
        "\n",
        "    Returns\n",
        "    -------\n",
        "    data_tpc: Dict\n",
        "        A dictionary containing different characterizations of the neuron.\n",
        "    \"\"\"\n",
        "    data_tpc = {}\n",
        "\n",
        "    sampling_freq = get_sampling_freq(time)\n",
        "\n",
        "    # compute original FR autocorrelation\n",
        "    lags, autocorr = compute_autocorrelation(time, fr)\n",
        "    data_tpc[\"lags\"] = lags\n",
        "    data_tpc[\"autocorr\"] = autocorr\n",
        "    # get shuffles\n",
        "    shuffled_autocorr = generate_shuffled_autocorr(time, fr, autocorr, num_shuffles)\n",
        "    if return_shuffles:\n",
        "        data_tpc[\"shuffled_autocorr\"] = shuffled_autocorr\n",
        "    else:\n",
        "        data_tpc[\"shuffled_autocorr\"] = []\n",
        "\n",
        "    # determine if tpc or not (different implementation for the paper in MATLAB)\n",
        "    data_tpc[\"is_tpc\"] = detect_tpc(lags, autocorr, shuffled_autocorr)\n",
        "\n",
        "    # compute zscored autocorrelation\n",
        "    zscored_autocorr = np.squeeze(\n",
        "        (autocorr - np.nanmean(shuffled_autocorr, axis=0, keepdims=True))\n",
        "        / np.nanstd(shuffled_autocorr, axis=0, keepdims=True)\n",
        "    )\n",
        "    data_tpc[\"zscored_autocorr\"] = zscored_autocorr\n",
        "\n",
        "    # compute fft on the zscored autocorrelations and get periodicities\n",
        "    periods, amplitude = compute_fft(zscored_autocorr, sampling_freq)\n",
        "    periodicity = compute_dominant_periodicity(periods, amplitude)\n",
        "    data_tpc[\"periods\"] = periods\n",
        "    data_tpc[\"amplitude\"] = amplitude\n",
        "    data_tpc[\"periodicity\"] = periodicity\n",
        "\n",
        "    return data_tpc"
      ],
      "metadata": {
        "id": "azfMUbp6DVkH"
      },
      "execution_count": 110,
      "outputs": []
    },
    {
      "cell_type": "markdown",
      "source": [
        "# Generate synthetic data"
      ],
      "metadata": {
        "id": "7URggP0BPM50"
      }
    },
    {
      "cell_type": "code",
      "source": [
        "neurons_dict = {\n",
        "    0: {\"is_tpc\":True, \"periodicity\":np.array([50]), \"amplitude\":np.array([2])},\n",
        "    1: {\"is_tpc\":True, \"periodicity\":np.array([60]), \"amplitude\":np.array([3])},\n",
        "    2: {\"is_tpc\":False, \"periodicity\":None, \"amplitude\":np.array([1])},\n",
        "    3: {\"is_tpc\":False, \"periodicity\":None, \"amplitude\":np.array([5])},\n",
        "    4: {\"is_tpc\":True, \"periodicity\":np.array([100]), \"amplitude\":np.array([3])},\n",
        "    5: {\"is_tpc\":True, \"periodicity\":np.array([50,200]), \"amplitude\":np.array([3,4])},\n",
        "    6: {\"is_tpc\":False, \"periodicity\":None, \"amplitude\":np.array([3])},\n",
        "    7: {\"is_tpc\":False, \"periodicity\":None, \"amplitude\":np.array([1,2])},\n",
        "    8: {\"is_tpc\":True, \"periodicity\":np.array([250]), \"amplitude\":np.array([3])},\n",
        "    9: {\"is_tpc\":True, \"periodicity\":np.array([100,400]), \"amplitude\":np.array([1,2])},\n",
        "    10: {\"is_tpc\":False, \"periodicity\":None, \"amplitude\":np.array([2])},\n",
        "    11: {\"is_tpc\":False, \"periodicity\":None, \"amplitude\":np.array([6])},\n",
        "    }\n",
        "\n",
        "all_data_tpc = []\n",
        "all_zscored_autocorr = []\n",
        "all_is_tpc = []\n",
        "all_fft_amplitude = []\n",
        "for idx_neuron, info_neurons in neurons_dict.items():\n",
        "  print(idx_neuron)\n",
        "  fr, time = generate_firing_rate(**info_neurons)\n",
        "  data_tpc = quantify_tpcs(time, fr)\n",
        "\n",
        "  all_data_tpc.append(data_tpc)\n",
        "  all_zscored_autocorr.append(data_tpc[\"zscored_autocorr\"][np.newaxis,:])\n",
        "  all_is_tpc.append(data_tpc[\"is_tpc\"])\n",
        "  all_fft_amplitude.append(data_tpc[\"amplitude\"][np.newaxis,:])\n"
      ],
      "metadata": {
        "colab": {
          "base_uri": "https://localhost:8080/"
        },
        "id": "TiYsCFzFnDIF",
        "outputId": "c1493a59-33ce-4566-b6b9-813a84be5106"
      },
      "execution_count": 111,
      "outputs": [
        {
          "output_type": "stream",
          "name": "stdout",
          "text": [
            "0\n",
            "1\n",
            "2\n",
            "3\n",
            "4\n",
            "5\n",
            "6\n",
            "7\n",
            "8\n",
            "9\n",
            "10\n",
            "11\n"
          ]
        }
      ]
    },
    {
      "cell_type": "markdown",
      "source": [
        "# Get percentage of TPC stats"
      ],
      "metadata": {
        "id": "Iji0M1dvusrv"
      }
    },
    {
      "cell_type": "code",
      "source": [
        "results = stats.binomtest(np.sum(np.array(all_is_tpc) > .5), n=len(all_is_tpc), p=0.5, alternative='two-sided')\n",
        "plt.figure(figsize=(4,6))\n",
        "plt.bar(1, results.proportion_estimate, color='g')\n",
        "plt.plot([1,1], [results.proportion_ci().low, results.proportion_ci().high], color='k')\n",
        "plt.axhline(.05, color='r', linestyle='--')\n",
        "plt.xlim(0,2)\n",
        "plt.ylim(0,1)\n",
        "plt.ylabel('Fraction of TPCs')"
      ],
      "metadata": {
        "colab": {
          "base_uri": "https://localhost:8080/",
          "height": 396
        },
        "id": "Ri1GelsEqCML",
        "outputId": "b87e6895-d2a5-4526-cc08-91ba872ebbc4"
      },
      "execution_count": 112,
      "outputs": [
        {
          "output_type": "execute_result",
          "data": {
            "text/plain": [
              "Text(0, 0.5, 'Fraction of TPCs')"
            ]
          },
          "metadata": {},
          "execution_count": 112
        },
        {
          "output_type": "display_data",
          "data": {
            "text/plain": [
              "<Figure size 288x432 with 1 Axes>"
            ],
            "image/png": "[encoded data removed]"
          },
          "metadata": {
            "needs_background": "light"
          }
        }
      ]
    },
    {
      "cell_type": "markdown",
      "source": [
        "# Plot Zscored autocorrelation for TPCs"
      ],
      "metadata": {
        "id": "o9_H55Couy2K"
      }
    },
    {
      "cell_type": "code",
      "source": [
        "valid_tpc = np.where(np.array(all_is_tpc) > .5)[0]\n",
        "valid_lags = (data_tpc[\"lags\"] > 0) & (data_tpc[\"lags\"] < 800)\n",
        "tpc_autocorr = np.concatenate(all_zscored_autocorr, axis=0)\n",
        "\n",
        "fig, ax = plt.subplots(figsize=(10,5))\n",
        "p = ax.pcolor(data_tpc[\"lags\"][valid_lags], np.arange(len(valid_tpc)+1), tpc_autocorr[valid_tpc][:, valid_lags], cmap=\"bone\", vmin=-10, vmax=10)\n",
        "ax.set_xlim(0, 800)\n",
        "ax.set_xlabel(\"Time lags (s)\")\n",
        "ax.set_ylabel(\"Neuron #\")\n",
        "cb = fig.colorbar(p, ax=ax)\n",
        "\n",
        "# get dominante periodicities\n",
        "dominant_periodicity = np.array([x[\"periodicity\"][0] for x in all_data_tpc])[valid_tpc]\n",
        "ax.plot(dominant_periodicity, 0.5 + np.arange(len(valid_tpc)), color='g', linewidth=3)"
      ],
      "metadata": {
        "colab": {
          "base_uri": "https://localhost:8080/",
          "height": 356
        },
        "id": "Vqqz3fjmWYbZ",
        "outputId": "624110a8-e664-4639-e194-e40c6fdde615"
      },
      "execution_count": 113,
      "outputs": [
        {
          "output_type": "execute_result",
          "data": {
            "text/plain": [
              "[<matplotlib.lines.Line2D at 0x7efb46f9d7d0>]"
            ]
          },
          "metadata": {},
          "execution_count": 113
        },
        {
          "output_type": "display_data",
          "data": {
            "text/plain": [
              "<Figure size 720x360 with 2 Axes>"
            ],
            "image/png": "[encoded data removed]"
          },
          "metadata": {
            "needs_background": "light"
          }
        }
      ]
    },
    {
      "cell_type": "markdown",
      "source": [
        "# Plot FFT of zscored autocorr for TPCs (to inspect dominant and other periodicities)"
      ],
      "metadata": {
        "id": "sxMGJrZbvKPB"
      }
    },
    {
      "cell_type": "code",
      "source": [
        "fft_amplitude = np.concatenate(all_fft_amplitude, axis=0)[valid_tpc]\n",
        "fft_amplitude /= np.max(fft_amplitude, axis=1)[:, np.newaxis]\n",
        "valid_periods = data_tpc[\"periods\"]>10\n",
        "\n",
        "fig, ax = plt.subplots(figsize=(10,5))\n",
        "p = ax.pcolor(data_tpc[\"periods\"][valid_periods], np.arange(len(valid_tpc)+1), fft_amplitude[:, valid_periods], cmap=\"bone\")\n",
        "ax.set_ylabel(\"Neuron #\")\n",
        "ax.set_xlim(30, 500)\n",
        "ax.set_xlabel(\"Periods (s)\")\n",
        "ax.set_xscale('log')\n",
        "ax.set_xticks([50, 100, 200, 300, 400])\n",
        "ax.set_xticklabels([str(x) for x in [50, 100, 200, 300, 400]])\n",
        "cb = fig.colorbar(p, ax=ax)\n",
        "\n",
        "# note that for neurons number 3 and 5, two periodicities were specified which appear below as well\n"
      ],
      "metadata": {
        "colab": {
          "base_uri": "https://localhost:8080/",
          "height": 338
        },
        "id": "5v7N2r7QreA3",
        "outputId": "4801cf5d-7ba5-4ca0-a170-ccd0a0e1ac5a"
      },
      "execution_count": 114,
      "outputs": [
        {
          "output_type": "display_data",
          "data": {
            "text/plain": [
              "<Figure size 720x360 with 2 Axes>"
            ],
            "image/png": "[encoded data removed]"
          },
          "metadata": {
            "needs_background": "light"
          }
        }
      ]
    },
    {
      "cell_type": "code",
      "source": [],
      "metadata": {
        "id": "RWNQwGAIoxH2"
      },
      "execution_count": null,
      "outputs": []
    }
  ]
}